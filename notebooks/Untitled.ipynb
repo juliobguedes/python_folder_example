{
 "cells": [
  {
   "cell_type": "code",
   "execution_count": 1,
   "id": "329c596f",
   "metadata": {},
   "outputs": [],
   "source": [
    "import sys\n",
    "sys.path.append('../')\n",
    "\n",
    "from src.dataset.mtg_jamendo import MTGJamendo"
   ]
  },
  {
   "cell_type": "code",
   "execution_count": 2,
   "id": "14ab7a12",
   "metadata": {},
   "outputs": [],
   "source": [
    "dataset = MTGJamendo()"
   ]
  },
  {
   "cell_type": "code",
   "execution_count": null,
   "id": "8373c0ba",
   "metadata": {},
   "outputs": [],
   "source": []
  }
 ],
 "metadata": {
  "kernelspec": {
   "display_name": "Python 3 (ipykernel)",
   "language": "python",
   "name": "python3"
  },
  "language_info": {
   "codemirror_mode": {
    "name": "ipython",
    "version": 3
   },
   "file_extension": ".py",
   "mimetype": "text/x-python",
   "name": "python",
   "nbconvert_exporter": "python",
   "pygments_lexer": "ipython3",
   "version": "3.10.9"
  }
 },
 "nbformat": 4,
 "nbformat_minor": 5
}
